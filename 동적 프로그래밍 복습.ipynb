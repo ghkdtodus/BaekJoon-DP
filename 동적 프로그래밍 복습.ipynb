{
  "nbformat": 4,
  "nbformat_minor": 0,
  "metadata": {
    "colab": {
      "name": "dp복습.ipynb",
      "provenance": [],
      "authorship_tag": "ABX9TyP2T2oWiip4rUDedBLyd45U",
      "include_colab_link": true
    },
    "kernelspec": {
      "name": "python3",
      "display_name": "Python 3"
    },
    "language_info": {
      "name": "python"
    }
  },
  "cells": [
    {
      "cell_type": "markdown",
      "metadata": {
        "id": "view-in-github",
        "colab_type": "text"
      },
      "source": [
        "<a href=\"https://colab.research.google.com/github/hwangsaeyeon/BaekJoon/blob/main/%EB%8F%99%EC%A0%81%20%ED%94%84%EB%A1%9C%EA%B7%B8%EB%9E%98%EB%B0%8D%20%EB%B3%B5%EC%8A%B5.ipynb\" target=\"_parent\"><img src=\"https://colab.research.google.com/assets/colab-badge.svg\" alt=\"Open In Colab\"/></a>"
      ]
    },
    {
      "cell_type": "markdown",
      "source": [
        "분할정복을 이용한 '행렬에서 최소 이동 비용 찾기' 문제 "
      ],
      "metadata": {
        "id": "Be6q65JQ4UqG"
      }
    },
    {
      "cell_type": "code",
      "execution_count": 2,
      "metadata": {
        "colab": {
          "base_uri": "https://localhost:8080/"
        },
        "id": "aNWrODVp22kp",
        "outputId": "7abcd045-f11c-4bbb-e1c5-3d20045899e8"
      },
      "outputs": [
        {
          "output_type": "stream",
          "name": "stdout",
          "text": [
            "12\n"
          ]
        }
      ],
      "source": [
        "M = 3 \n",
        "N = 4\n",
        "\n",
        "def get_min(a,b):#최소값 반환해주는 함수 \n",
        "  return a if a < b else b \n",
        "\n",
        "def min_cost_recursion(cost,i,j):#분할정복 활용해서 행렬에서 최소 이동비용 찾기 \n",
        "  if i == 0 and j == 0: #첫번째 행,열\n",
        "    return mat[0][0] #그대로 반환\n",
        "  if i == 0: #첫번째 행\n",
        "    return min_cost_recursion(mat,0,j-1)+ mat[0][j] #바로 왼쪽 셀의 최소 이동 비용의 반환값 + 자기 자신\n",
        "  if j == 0: #첫번째 열 \n",
        "    return min_cost_recursion(mat,i-1,0) + mat[i][0] #바로 위쪽 셀의 최소 이동 비용의 반환값 + 자기 자신 \n",
        "\n",
        "  a = min_cost_recursion(mat,i-1,j) #else, 바로 위 셀의 최소 이동 비용의 반환 값 \n",
        "  b = min_cost_recursion(mat,i,j-1) #else, 바로 왼쪽 셀의 최소 이동 비용의 반환 값 \n",
        "\n",
        "  return get_min(a,b) + mat[i][j] #a,b 중 최소 비용 + 자기 자신\n",
        "\n",
        "mat = [[1,3,5,8],[4,2,1,7],[4,3,2,3]]\n",
        "print(min_cost_recursion(mat, M-1, N-1))"
      ]
    },
    {
      "cell_type": "markdown",
      "source": [
        "메모 전략을 이용한 '행렬에서 최소 이동 비용 찾기' 문제"
      ],
      "metadata": {
        "id": "WFz7-w4e8oWV"
      }
    },
    {
      "cell_type": "code",
      "source": [
        "M = 3\n",
        "N = 4\n",
        "cache = [[0]*N for i in range(0,M)]\n",
        "\n",
        "def get_min(a,b): #최소비용 찾기\n",
        "  return a if a<b else b\n",
        "\n",
        "def min_cost_memo(mat,i,j): #메모전략 함수\n",
        "  if cache[i][j] != 0 :#이미 저장되어 있다면\n",
        "    return cache[i][j] #캐시값 반환\n",
        "\n",
        "  if i == 0 and j == 0: #출발 셀이라면\n",
        "    cache[i][j] = mat[0][0] #mat[0][0]을 cache[0][0]에 기록\n",
        "    return cache[i][j] #캐시에 저장\n",
        "  if i == 0: #맨 위 셀이라면\n",
        "    cache[i][j] = min_cost_memo(mat,0,j-1) + mat[0][j] #바로 왼쪽 셀의 최소 이동 비용의 반환값 + 자기 자신\n",
        "    return cache[i][j] #캐시에 저장\n",
        "  if j == 0: #맨 왼쪽 셀이라면\n",
        "    cache[i][j] = min_cost_memo(mat,i-1,0) + mat[i][0] #바로 위쪽 셀의 최소 이동 비용의 반환값 + 자기 자신 \n",
        "    return cache[i][j] #캐시에 저장 \n",
        "  else: #위 조건 만족 x시\n",
        "    a = min_cost_memo(mat,i-1,j) #바로 위 셀 최소값 호출\n",
        "    b = min_cost_memo(mat,i,j-1) #바로 왼쪽 셀 최소값 호출\n",
        "    cache[i][j] = get_min(a,b) + mat[i][j] #a,b중 최소값 + 자기 자신\n",
        "  return cache[i][j] #캐시에 저장\n",
        "\n",
        "mat = [[1,3,5,8],[4,2,1,7],[4,3,2,3]]\n",
        "print(min_cost_memo(mat, M-1, N-1))"
      ],
      "metadata": {
        "colab": {
          "base_uri": "https://localhost:8080/"
        },
        "id": "6k0EjDnZ8w9f",
        "outputId": "2045f84b-ee9b-48e4-c4f7-e43372babddc"
      },
      "execution_count": 5,
      "outputs": [
        {
          "output_type": "stream",
          "name": "stdout",
          "text": [
            "12\n"
          ]
        }
      ]
    },
    {
      "cell_type": "markdown",
      "source": [
        "dp 전략을 이용한 '행렬에서 최소 이동 비용 찾기' 문제"
      ],
      "metadata": {
        "id": "x_BFukv5CYjE"
      }
    },
    {
      "cell_type": "code",
      "source": [
        "M = 3 #행\n",
        "N = 4 #열\n",
        "\n",
        "def get_min(a,b):\n",
        "  return a if a<b else b\n",
        "\n",
        "def min_cost_dp(mat,i,j):\n",
        "  cache = [[0] * N for i in range(0,M)]\n",
        "  cache[0][0] = mat[0][0]\n",
        "  for j in range(0,N):\n",
        "    cache[0][j] = cache[0][j-1] + mat[0][j]\n",
        "  for i in range(0,M):\n",
        "    cache[i][0] = cache[i-1][0] + mat[i][0]\n",
        "  for i in range(1,M):\n",
        "    for j in range(1,N):\n",
        "      cache[i][j] = get_min(cache[i-1][j],cache[i][j-1])+mat[i][j]\n",
        "  return cache[M-1][N-1]\n",
        "\n",
        "mat = [[1,3,5,8],[4,2,1,7],[4,3,2,3]]\n",
        "print(min_cost_dp(mat, M-1, N-1))"
      ],
      "metadata": {
        "colab": {
          "base_uri": "https://localhost:8080/"
        },
        "id": "z507WGjzCbH4",
        "outputId": "c8c442fa-bf16-4f10-b27e-6188f17c6925"
      },
      "execution_count": 7,
      "outputs": [
        {
          "output_type": "stream",
          "name": "stdout",
          "text": [
            "12\n"
          ]
        }
      ]
    }
  ]
}